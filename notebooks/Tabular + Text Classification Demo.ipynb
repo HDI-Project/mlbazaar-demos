{
 "cells": [
  {
   "cell_type": "markdown",
   "metadata": {},
   "source": [
    "# Tabular + Text Classification Demo"
   ]
  },
  {
   "cell_type": "code",
   "execution_count": 1,
   "metadata": {},
   "outputs": [],
   "source": [
    "import logging;\n",
    "\n",
    "logging.basicConfig(level=logging.INFO)\n",
    "logging.getLogger().setLevel(level=logging.INFO)\n",
    "\n",
    "import warnings\n",
    "warnings.simplefilter(\"ignore\")"
   ]
  },
  {
   "cell_type": "code",
   "execution_count": 31,
   "metadata": {},
   "outputs": [],
   "source": [
    "primitives = [\n",
    "    'mlprimitives.custom.text.TextCleaner',\n",
    "    'mlprimitives.custom.feature_extraction.StringVectorizer',\n",
    "    'sklearn.ensemble.RandomForestClassifier',\n",
    "]\n",
    "hyperparameters = {\n",
    "    'mlprimitives.custom.text.TextCleaner': {\n",
    "        'column': 'text',\n",
    "        'language': 'nl'\n",
    "    },\n",
    "    'sklearn.ensemble.RandomForestClassifier': {\n",
    "        'n_jobs': -1,\n",
    "        'n_estimators': 100\n",
    "    }\n",
    "}"
   ]
  },
  {
   "cell_type": "code",
   "execution_count": 32,
   "metadata": {},
   "outputs": [],
   "source": [
    "from mlprimitives.datasets import load_personae\n",
    "\n",
    "dataset = load_personae()"
   ]
  },
  {
   "cell_type": "code",
   "execution_count": 33,
   "metadata": {},
   "outputs": [
    {
     "name": "stdout",
     "output_type": "stream",
     "text": [
      "Personae Dataset.\n",
      "\n",
      "    The data of this dataset is a 2d numpy array vector containing 145 entries\n",
      "    that include texts written by Dutch users in Twitter, with some additional\n",
      "    information about the author, and the target is a 1d numpy binary integer\n",
      "    array indicating whether the author was extrovert or not.\n",
      "    \n"
     ]
    }
   ],
   "source": [
    "dataset.describe()"
   ]
  },
  {
   "cell_type": "code",
   "execution_count": 34,
   "metadata": {},
   "outputs": [
    {
     "data": {
      "text/html": [
       "<div>\n",
       "<style scoped>\n",
       "    .dataframe tbody tr th:only-of-type {\n",
       "        vertical-align: middle;\n",
       "    }\n",
       "\n",
       "    .dataframe tbody tr th {\n",
       "        vertical-align: top;\n",
       "    }\n",
       "\n",
       "    .dataframe thead th {\n",
       "        text-align: right;\n",
       "    }\n",
       "</style>\n",
       "<table border=\"1\" class=\"dataframe\">\n",
       "  <thead>\n",
       "    <tr style=\"text-align: right;\">\n",
       "      <th></th>\n",
       "      <th>text_language</th>\n",
       "      <th>author_gender</th>\n",
       "      <th>author_language</th>\n",
       "      <th>author_region</th>\n",
       "      <th>text</th>\n",
       "    </tr>\n",
       "  </thead>\n",
       "  <tbody>\n",
       "    <tr>\n",
       "      <th>0</th>\n",
       "      <td>Dutch</td>\n",
       "      <td>male</td>\n",
       "      <td>Dutch</td>\n",
       "      <td>A</td>\n",
       "      <td>' Artificial Life ' : documentaire over kunstm...</td>\n",
       "    </tr>\n",
       "    <tr>\n",
       "      <th>1</th>\n",
       "      <td>Dutch</td>\n",
       "      <td>female</td>\n",
       "      <td>Dutch</td>\n",
       "      <td>A</td>\n",
       "      <td>Kunstmatig leven Men start de film met de vraa...</td>\n",
       "    </tr>\n",
       "    <tr>\n",
       "      <th>2</th>\n",
       "      <td>Dutch</td>\n",
       "      <td>male</td>\n",
       "      <td>Dutch</td>\n",
       "      <td>A</td>\n",
       "      <td>De film over artificiële intelligentie die we ...</td>\n",
       "    </tr>\n",
       "    <tr>\n",
       "      <th>3</th>\n",
       "      <td>Dutch</td>\n",
       "      <td>female</td>\n",
       "      <td>Dutch</td>\n",
       "      <td>B</td>\n",
       "      <td>' Artificial Life ' is de titel van een docume...</td>\n",
       "    </tr>\n",
       "    <tr>\n",
       "      <th>4</th>\n",
       "      <td>Dutch</td>\n",
       "      <td>female</td>\n",
       "      <td>Dutch</td>\n",
       "      <td>A</td>\n",
       "      <td>Tijdens het college van 14 november bekeken we...</td>\n",
       "    </tr>\n",
       "  </tbody>\n",
       "</table>\n",
       "</div>"
      ],
      "text/plain": [
       "  text_language author_gender author_language author_region  \\\n",
       "0         Dutch          male           Dutch             A   \n",
       "1         Dutch        female           Dutch             A   \n",
       "2         Dutch          male           Dutch             A   \n",
       "3         Dutch        female           Dutch             B   \n",
       "4         Dutch        female           Dutch             A   \n",
       "\n",
       "                                                text  \n",
       "0  ' Artificial Life ' : documentaire over kunstm...  \n",
       "1  Kunstmatig leven Men start de film met de vraa...  \n",
       "2  De film over artificiële intelligentie die we ...  \n",
       "3  ' Artificial Life ' is de titel van een docume...  \n",
       "4  Tijdens het college van 14 november bekeken we...  "
      ]
     },
     "execution_count": 34,
     "metadata": {},
     "output_type": "execute_result"
    }
   ],
   "source": [
    "dataset.data.head()"
   ]
  },
  {
   "cell_type": "code",
   "execution_count": 35,
   "metadata": {},
   "outputs": [
    {
     "data": {
      "text/plain": [
       "array([0, 1, 1, 0, 1, 0, 0, 1, 1, 1, 1, 1, 1, 0, 0, 0, 0, 1, 1, 1, 1, 0,\n",
       "       0, 0, 0, 1, 0, 1, 0, 1, 1, 1, 1, 0, 1, 0, 0, 0, 1, 1, 0, 0, 0, 0,\n",
       "       1, 0, 1, 0, 1, 1, 1, 1, 1, 0, 1, 1, 0, 1, 1, 0, 1, 1, 0, 1, 1, 0,\n",
       "       0, 1, 1, 1, 0, 1, 1, 0, 1, 1, 0, 0, 0, 1, 0, 1, 1, 1, 0, 1, 0, 0,\n",
       "       1, 1, 1, 1, 0, 1, 1, 1, 0, 0, 1, 1, 0, 0, 0, 0, 1, 1, 1, 1, 0, 0,\n",
       "       0, 0, 0, 1, 0, 1, 1, 0, 1, 1, 0, 1, 1, 0, 1, 1, 0, 1, 0, 1, 1, 1,\n",
       "       1, 0, 1, 1, 0, 0, 1, 1, 0, 0, 0, 0, 0])"
      ]
     },
     "execution_count": 35,
     "metadata": {},
     "output_type": "execute_result"
    }
   ],
   "source": [
    "dataset.target"
   ]
  },
  {
   "cell_type": "code",
   "execution_count": 36,
   "metadata": {},
   "outputs": [],
   "source": [
    "from mlblocks import MLPipeline\n",
    "\n",
    "pipeline = MLPipeline(primitives, init_params=hyperparameters)"
   ]
  },
  {
   "cell_type": "code",
   "execution_count": 37,
   "metadata": {},
   "outputs": [],
   "source": [
    "X_train, X_test, y_train, y_test = dataset.get_splits(1)"
   ]
  },
  {
   "cell_type": "code",
   "execution_count": 38,
   "metadata": {},
   "outputs": [
    {
     "data": {
      "text/html": [
       "<div>\n",
       "<style scoped>\n",
       "    .dataframe tbody tr th:only-of-type {\n",
       "        vertical-align: middle;\n",
       "    }\n",
       "\n",
       "    .dataframe tbody tr th {\n",
       "        vertical-align: top;\n",
       "    }\n",
       "\n",
       "    .dataframe thead th {\n",
       "        text-align: right;\n",
       "    }\n",
       "</style>\n",
       "<table border=\"1\" class=\"dataframe\">\n",
       "  <thead>\n",
       "    <tr style=\"text-align: right;\">\n",
       "      <th></th>\n",
       "      <th>text_language</th>\n",
       "      <th>author_gender</th>\n",
       "      <th>author_language</th>\n",
       "      <th>author_region</th>\n",
       "      <th>text</th>\n",
       "    </tr>\n",
       "  </thead>\n",
       "  <tbody>\n",
       "    <tr>\n",
       "      <th>104</th>\n",
       "      <td>Dutch</td>\n",
       "      <td>female</td>\n",
       "      <td>Dutch</td>\n",
       "      <td>A</td>\n",
       "      <td>Automatic Mechanical Self Replication De film ...</td>\n",
       "    </tr>\n",
       "    <tr>\n",
       "      <th>83</th>\n",
       "      <td>Dutch</td>\n",
       "      <td>female</td>\n",
       "      <td>Dutch</td>\n",
       "      <td>A</td>\n",
       "      <td>Onderzoek naar \" Artificial Life \" : een overz...</td>\n",
       "    </tr>\n",
       "    <tr>\n",
       "      <th>47</th>\n",
       "      <td>Dutch</td>\n",
       "      <td>female</td>\n",
       "      <td>Dutch</td>\n",
       "      <td>A</td>\n",
       "      <td>The Artificial Life In deze ietwat verwarrende...</td>\n",
       "    </tr>\n",
       "    <tr>\n",
       "      <th>141</th>\n",
       "      <td>Dutch</td>\n",
       "      <td>female</td>\n",
       "      <td>Dutch</td>\n",
       "      <td>A</td>\n",
       "      <td>Documentaire : \" Artificiel life \" De grote vr...</td>\n",
       "    </tr>\n",
       "    <tr>\n",
       "      <th>82</th>\n",
       "      <td>Dutch</td>\n",
       "      <td>female</td>\n",
       "      <td>Dutch</td>\n",
       "      <td>A</td>\n",
       "      <td>Artificiële buren ? Robotten , u hebt er vast ...</td>\n",
       "    </tr>\n",
       "  </tbody>\n",
       "</table>\n",
       "</div>"
      ],
      "text/plain": [
       "    text_language author_gender author_language author_region  \\\n",
       "104         Dutch        female           Dutch             A   \n",
       "83          Dutch        female           Dutch             A   \n",
       "47          Dutch        female           Dutch             A   \n",
       "141         Dutch        female           Dutch             A   \n",
       "82          Dutch        female           Dutch             A   \n",
       "\n",
       "                                                  text  \n",
       "104  Automatic Mechanical Self Replication De film ...  \n",
       "83   Onderzoek naar \" Artificial Life \" : een overz...  \n",
       "47   The Artificial Life In deze ietwat verwarrende...  \n",
       "141  Documentaire : \" Artificiel life \" De grote vr...  \n",
       "82   Artificiële buren ? Robotten , u hebt er vast ...  "
      ]
     },
     "execution_count": 38,
     "metadata": {},
     "output_type": "execute_result"
    }
   ],
   "source": [
    "X_train.head()"
   ]
  },
  {
   "cell_type": "code",
   "execution_count": 39,
   "metadata": {},
   "outputs": [],
   "source": [
    "pipeline.fit(X_train, y_train)"
   ]
  },
  {
   "cell_type": "code",
   "execution_count": 40,
   "metadata": {},
   "outputs": [],
   "source": [
    "predictions = pipeline.predict(X_test)"
   ]
  },
  {
   "cell_type": "code",
   "execution_count": 41,
   "metadata": {},
   "outputs": [
    {
     "data": {
      "text/plain": [
       "0.5945945945945946"
      ]
     },
     "execution_count": 41,
     "metadata": {},
     "output_type": "execute_result"
    }
   ],
   "source": [
    "dataset.score(y_test, predictions)"
   ]
  }
 ],
 "metadata": {
  "kernelspec": {
   "display_name": "Python 3",
   "language": "python",
   "name": "python3"
  },
  "language_info": {
   "codemirror_mode": {
    "name": "ipython",
    "version": 3
   },
   "file_extension": ".py",
   "mimetype": "text/x-python",
   "name": "python",
   "nbconvert_exporter": "python",
   "pygments_lexer": "ipython3",
   "version": "3.6.7"
  }
 },
 "nbformat": 4,
 "nbformat_minor": 4
}
