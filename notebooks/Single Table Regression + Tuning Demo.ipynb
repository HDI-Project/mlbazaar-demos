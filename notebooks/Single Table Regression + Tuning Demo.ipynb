{
 "cells": [
  {
   "cell_type": "markdown",
   "metadata": {},
   "source": [
    "# Single Table Regression + Tuning Demo"
   ]
  },
  {
   "cell_type": "code",
   "execution_count": 1,
   "metadata": {},
   "outputs": [],
   "source": [
    "# Imports and logging/Pretty print setup\n",
    "\n",
    "import logging;\n",
    "\n",
    "logging.basicConfig(level=logging.ERROR)\n",
    "logging.getLogger().setLevel(level=logging.ERROR)\n",
    "\n",
    "import warnings\n",
    "warnings.simplefilter(\"ignore\")\n",
    "\n",
    "import json\n",
    "\n",
    "def pp(a_dict):\n",
    "    print(json.dumps(a_dict, indent=4))\n",
    "    \n",
    "import numpy as np\n",
    "\n",
    "from btb import HyperParameter\n",
    "from btb.tuning import GP\n",
    "from mlblocks import MLPipeline\n",
    "from sklearn.model_selection import KFold"
   ]
  },
  {
   "cell_type": "markdown",
   "metadata": {},
   "source": [
    "### Load the Dataset"
   ]
  },
  {
   "cell_type": "code",
   "execution_count": 3,
   "metadata": {},
   "outputs": [],
   "source": [
    "from mlprimitives.datasets import load_boston\n",
    "\n",
    "dataset = load_boston()"
   ]
  },
  {
   "cell_type": "code",
   "execution_count": 4,
   "metadata": {},
   "outputs": [
    {
     "name": "stdout",
     "output_type": "stream",
     "text": [
      "Boston House Prices Dataset.\n"
     ]
    }
   ],
   "source": [
    "dataset.describe()"
   ]
  },
  {
   "cell_type": "code",
   "execution_count": 4,
   "metadata": {},
   "outputs": [
    {
     "data": {
      "text/plain": [
       "(506, 13)"
      ]
     },
     "execution_count": 4,
     "metadata": {},
     "output_type": "execute_result"
    }
   ],
   "source": [
    "dataset.data.shape"
   ]
  },
  {
   "cell_type": "code",
   "execution_count": 6,
   "metadata": {},
   "outputs": [
    {
     "data": {
      "text/plain": [
       "array([6.320e-03, 1.800e+01, 2.310e+00, 0.000e+00, 5.380e-01, 6.575e+00,\n",
       "       6.520e+01, 4.090e+00, 1.000e+00, 2.960e+02, 1.530e+01, 3.969e+02,\n",
       "       4.980e+00])"
      ]
     },
     "execution_count": 6,
     "metadata": {},
     "output_type": "execute_result"
    }
   ],
   "source": [
    "dataset.data[0]"
   ]
  },
  {
   "cell_type": "code",
   "execution_count": 5,
   "metadata": {},
   "outputs": [
    {
     "data": {
      "text/plain": [
       "(506,)"
      ]
     },
     "execution_count": 5,
     "metadata": {},
     "output_type": "execute_result"
    }
   ],
   "source": [
    "dataset.target.shape"
   ]
  },
  {
   "cell_type": "code",
   "execution_count": 7,
   "metadata": {},
   "outputs": [
    {
     "data": {
      "text/plain": [
       "array([24. , 21.6, 34.7, 33.4, 36.2])"
      ]
     },
     "execution_count": 7,
     "metadata": {},
     "output_type": "execute_result"
    }
   ],
   "source": [
    "dataset.target[0:5]"
   ]
  },
  {
   "cell_type": "markdown",
   "metadata": {},
   "source": [
    "### Split the dataset in train and test"
   ]
  },
  {
   "cell_type": "code",
   "execution_count": 10,
   "metadata": {},
   "outputs": [],
   "source": [
    "X_train, X_test, y_train, y_test = dataset.get_splits(1)"
   ]
  },
  {
   "cell_type": "markdown",
   "metadata": {},
   "source": [
    "### Create the Pipeline"
   ]
  },
  {
   "cell_type": "code",
   "execution_count": 8,
   "metadata": {},
   "outputs": [],
   "source": [
    "primitives = [\n",
    "    \"xgboost.XGBRegressor\"\n",
    "]\n",
    "hyperparameters = {\n",
    "    'xgboost.XGBRegressor#1': {\n",
    "        'objective': 'reg:squarederror'\n",
    "    }\n",
    "}"
   ]
  },
  {
   "cell_type": "code",
   "execution_count": 9,
   "metadata": {},
   "outputs": [],
   "source": [
    "pipeline = MLPipeline(primitives)"
   ]
  },
  {
   "cell_type": "markdown",
   "metadata": {},
   "source": [
    "### Evaluate the Pipeline"
   ]
  },
  {
   "cell_type": "code",
   "execution_count": 11,
   "metadata": {},
   "outputs": [],
   "source": [
    "pipeline.fit(X_train, y_train)"
   ]
  },
  {
   "cell_type": "code",
   "execution_count": 12,
   "metadata": {},
   "outputs": [],
   "source": [
    "predictions = pipeline.predict(X_test)"
   ]
  },
  {
   "cell_type": "code",
   "execution_count": 13,
   "metadata": {},
   "outputs": [
    {
     "data": {
      "text/plain": [
       "0.8840473293667634"
      ]
     },
     "execution_count": 13,
     "metadata": {},
     "output_type": "execute_result"
    }
   ],
   "source": [
    "dataset.score(y_test, predictions)"
   ]
  },
  {
   "cell_type": "markdown",
   "metadata": {},
   "source": [
    "### Prepare for tuning"
   ]
  },
  {
   "cell_type": "code",
   "execution_count": 14,
   "metadata": {},
   "outputs": [
    {
     "name": "stdout",
     "output_type": "stream",
     "text": [
      "{\n",
      "    \"xgboost.XGBRegressor#1\": {\n",
      "        \"n_estimators\": {\n",
      "            \"type\": \"int\",\n",
      "            \"default\": 100,\n",
      "            \"range\": [\n",
      "                10,\n",
      "                1000\n",
      "            ]\n",
      "        },\n",
      "        \"max_depth\": {\n",
      "            \"type\": \"int\",\n",
      "            \"default\": 3,\n",
      "            \"range\": [\n",
      "                3,\n",
      "                10\n",
      "            ]\n",
      "        },\n",
      "        \"learning_rate\": {\n",
      "            \"type\": \"float\",\n",
      "            \"default\": 0.1,\n",
      "            \"range\": [\n",
      "                0,\n",
      "                1\n",
      "            ]\n",
      "        },\n",
      "        \"gamma\": {\n",
      "            \"type\": \"float\",\n",
      "            \"default\": 0.1,\n",
      "            \"range\": [\n",
      "                0,\n",
      "                1\n",
      "            ]\n",
      "        },\n",
      "        \"min_child_weight\": {\n",
      "            \"type\": \"int\",\n",
      "            \"default\": 1,\n",
      "            \"range\": [\n",
      "                1,\n",
      "                10\n",
      "            ]\n",
      "        }\n",
      "    }\n",
      "}\n"
     ]
    }
   ],
   "source": [
    "pp(pipeline.get_tunable_hyperparameters())"
   ]
  },
  {
   "cell_type": "code",
   "execution_count": 15,
   "metadata": {},
   "outputs": [],
   "source": [
    "tunables = list()\n",
    "defaults = dict()\n",
    "for block_name, params in pipeline.get_tunable_hyperparameters().items():\n",
    "    for param_name, param_details in params.items():\n",
    "        key = (block_name, param_name)\n",
    "        param_type = param_details['type']\n",
    "        param_type = 'string' if param_type == 'str' else param_type\n",
    "\n",
    "        if param_type == 'bool':\n",
    "            param_range = [True, False]\n",
    "        else:\n",
    "            param_range = param_details.get('range') or param_details.get('values')\n",
    "\n",
    "        value = HyperParameter(param_type, param_range)\n",
    "        tunables.append((key, value))\n",
    "        defaults[key] = param_details['default']"
   ]
  },
  {
   "cell_type": "code",
   "execution_count": 16,
   "metadata": {},
   "outputs": [
    {
     "data": {
      "text/plain": [
       "[(('xgboost.XGBRegressor#1', 'n_estimators'),\n",
       "  <btb.hyper_parameter.IntHyperParameter at 0x7f38de05ca20>),\n",
       " (('xgboost.XGBRegressor#1', 'max_depth'),\n",
       "  <btb.hyper_parameter.IntHyperParameter at 0x7f38de05cdd8>),\n",
       " (('xgboost.XGBRegressor#1', 'learning_rate'),\n",
       "  <btb.hyper_parameter.FloatHyperParameter at 0x7f38de05cb38>),\n",
       " (('xgboost.XGBRegressor#1', 'gamma'),\n",
       "  <btb.hyper_parameter.FloatHyperParameter at 0x7f38de05cc18>),\n",
       " (('xgboost.XGBRegressor#1', 'min_child_weight'),\n",
       "  <btb.hyper_parameter.IntHyperParameter at 0x7f38de05cd30>)]"
      ]
     },
     "execution_count": 16,
     "metadata": {},
     "output_type": "execute_result"
    }
   ],
   "source": [
    "tunables"
   ]
  },
  {
   "cell_type": "code",
   "execution_count": 17,
   "metadata": {},
   "outputs": [
    {
     "data": {
      "text/plain": [
       "{('xgboost.XGBRegressor#1', 'n_estimators'): 100,\n",
       " ('xgboost.XGBRegressor#1', 'max_depth'): 3,\n",
       " ('xgboost.XGBRegressor#1', 'learning_rate'): 0.1,\n",
       " ('xgboost.XGBRegressor#1', 'gamma'): 0.1,\n",
       " ('xgboost.XGBRegressor#1', 'min_child_weight'): 1}"
      ]
     },
     "execution_count": 17,
     "metadata": {},
     "output_type": "execute_result"
    }
   ],
   "source": [
    "defaults"
   ]
  },
  {
   "cell_type": "markdown",
   "metadata": {},
   "source": [
    "### Start the tuning loop"
   ]
  },
  {
   "cell_type": "code",
   "execution_count": 18,
   "metadata": {},
   "outputs": [
    {
     "name": "stdout",
     "output_type": "stream",
     "text": [
      "0 - Best score so far: 0.8131233290167268\n",
      "2 - Best score so far: 0.8185586557020965\n",
      "5 - Best score so far: 0.82290229127515\n",
      "13 - Best score so far: 0.8244420866234726\n",
      "17 - Best score so far: 0.829687744856996\n",
      "39 - Best score so far: 0.8373185176550653\n",
      "47 - Best score so far: 0.8398385688230501\n",
      "49 - Best score so far: 0.8411160438899634\n"
     ]
    }
   ],
   "source": [
    "tuner = GP(tunables, r_minimum=10)\n",
    "kfold = KFold(n_splits=5)\n",
    "\n",
    "best = 0\n",
    "for i in range(100):\n",
    "    params = tuner.propose()\n",
    "    pipeline.set_hyperparameters(params)\n",
    "    \n",
    "    scores = []\n",
    "    for train, test in kfold.split(X_train, y_train):\n",
    "        pipeline.fit(X_train[train], y_train[train])\n",
    "        predictions = pipeline.predict(X_train[test])\n",
    "        scores.append(dataset.score(y_train[test], predictions))\n",
    "    \n",
    "    score = np.mean(scores)\n",
    "    tuner.add(params, score)\n",
    "    \n",
    "    if score > best:\n",
    "        best = score\n",
    "        best_params = params\n",
    "        print(\"{} - Best score so far: {}\".format(i, best))"
   ]
  },
  {
   "cell_type": "markdown",
   "metadata": {},
   "source": [
    "### Evaluate the found hyperparameters"
   ]
  },
  {
   "cell_type": "code",
   "execution_count": 19,
   "metadata": {},
   "outputs": [],
   "source": [
    "pipeline.set_hyperparameters(best_params)"
   ]
  },
  {
   "cell_type": "code",
   "execution_count": 20,
   "metadata": {},
   "outputs": [],
   "source": [
    "pipeline.fit(X_train, y_train)"
   ]
  },
  {
   "cell_type": "code",
   "execution_count": 21,
   "metadata": {},
   "outputs": [],
   "source": [
    "predictions = pipeline.predict(X_test)"
   ]
  },
  {
   "cell_type": "code",
   "execution_count": 22,
   "metadata": {},
   "outputs": [
    {
     "data": {
      "text/plain": [
       "0.8952775404471299"
      ]
     },
     "execution_count": 22,
     "metadata": {},
     "output_type": "execute_result"
    }
   ],
   "source": [
    "dataset.score(y_test, predictions)"
   ]
  }
 ],
 "metadata": {
  "kernelspec": {
   "display_name": "Python 3",
   "language": "python",
   "name": "python3"
  },
  "language_info": {
   "codemirror_mode": {
    "name": "ipython",
    "version": 3
   },
   "file_extension": ".py",
   "mimetype": "text/x-python",
   "name": "python",
   "nbconvert_exporter": "python",
   "pygments_lexer": "ipython3",
   "version": "3.6.7"
  }
 },
 "nbformat": 4,
 "nbformat_minor": 4
}
