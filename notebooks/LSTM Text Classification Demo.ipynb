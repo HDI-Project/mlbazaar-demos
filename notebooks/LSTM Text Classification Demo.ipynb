{
 "cells": [
  {
   "cell_type": "markdown",
   "metadata": {},
   "source": [
    "# LSTM Text Classification Demo"
   ]
  },
  {
   "cell_type": "code",
   "execution_count": 1,
   "metadata": {},
   "outputs": [],
   "source": [
    "import logging;\n",
    "\n",
    "logging.basicConfig(level=logging.INFO)\n",
    "logging.getLogger().setLevel(level=logging.INFO)\n",
    "\n",
    "import warnings\n",
    "warnings.simplefilter(\"ignore\")"
   ]
  },
  {
   "cell_type": "code",
   "execution_count": 41,
   "metadata": {},
   "outputs": [],
   "source": [
    "primitives = [\n",
    "    \"mlprimitives.custom.counters.UniqueCounter\",\n",
    "    \"mlprimitives.custom.text.TextCleaner\",\n",
    "    \"mlprimitives.custom.counters.VocabularyCounter\",\n",
    "    \"keras.preprocessing.text.Tokenizer\",\n",
    "    \"keras.preprocessing.sequence.pad_sequences\",\n",
    "    \"keras.Sequential.LSTMTextClassifier\"\n",
    "]\n",
    "hyperparameters = {\n",
    "    \"mlprimitives.custom.counters.VocabularyCounter#1\": {\n",
    "        \"add\": 1\n",
    "    },\n",
    "    \"mlprimitives.custom.text.TextCleaner#1\": {\n",
    "        \"stopwords\": False\n",
    "    },\n",
    "    \"keras.preprocessing.sequence.pad_sequences#1\": {\n",
    "        \"maxlen\": 300\n",
    "    },\n",
    "    \"keras.Sequential.LSTMTextClassifier#1\": {\n",
    "        \"input_length\": 300,\n",
    "        \"verbose\": True\n",
    "    }\n",
    "}\n",
    "input_names = {\n",
    "    \"mlprimitives.custom.counters.UniqueCounter#1\": {\n",
    "        \"X\": \"y\"\n",
    "    }\n",
    "}\n",
    "output_names = {\n",
    "    \"mlprimitives.custom.counters.UniqueCounter#1\": {\n",
    "        \"counts\": \"classes\"\n",
    "    },\n",
    "    \"mlprimitives.custom.counters.VocabularyCounter#1\": {\n",
    "        \"counts\": \"vocabulary_size\"\n",
    "    }\n",
    "}"
   ]
  },
  {
   "cell_type": "code",
   "execution_count": 42,
   "metadata": {},
   "outputs": [],
   "source": [
    "from mlprimitives.datasets import load_newsgroups\n",
    "\n",
    "dataset = load_newsgroups()"
   ]
  },
  {
   "cell_type": "code",
   "execution_count": 43,
   "metadata": {},
   "outputs": [
    {
     "name": "stdout",
     "output_type": "stream",
     "text": [
      "20 News Groups Dataset.\n",
      "\n",
      "    The data of this dataset is a 1d numpy array vector containing the texts\n",
      "    from 11314 newsgroups posts, and the target is a 1d numpy integer array\n",
      "    containing the label of one of the 20 topics that they are about.\n",
      "    \n"
     ]
    }
   ],
   "source": [
    "dataset.describe()"
   ]
  },
  {
   "cell_type": "code",
   "execution_count": 44,
   "metadata": {},
   "outputs": [
    {
     "data": {
      "text/plain": [
       "\"From: lerxst@wam.umd.edu (where's my thing)\\nSubject: WHAT car is this!?\\nNntp-Posting-Host: rac3.wam.umd.edu\\nOrganization: University of Maryland, College Park\\nLines: 15\\n\\n I was wondering if anyone out there could enlighten me on this car I saw\\nthe other day. It was a 2-door sports car, looked to be from the late 60s/\\nearly 70s. It was called a Bricklin. The doors were really small. In addition,\\nthe front bumper was separate from the rest of the body. This is \\nall I know. If anyone can tellme a model name, engine specs, years\\nof production, where this car is made, history, or whatever info you\\nhave on this funky looking car, please e-mail.\\n\\nThanks,\\n- IL\\n   ---- brought to you by your neighborhood Lerxst ----\\n\\n\\n\\n\\n\""
      ]
     },
     "execution_count": 44,
     "metadata": {},
     "output_type": "execute_result"
    }
   ],
   "source": [
    "dataset.data[0]"
   ]
  },
  {
   "cell_type": "code",
   "execution_count": 45,
   "metadata": {},
   "outputs": [
    {
     "data": {
      "text/plain": [
       "array([7, 4, 4, ..., 3, 1, 8])"
      ]
     },
     "execution_count": 45,
     "metadata": {},
     "output_type": "execute_result"
    }
   ],
   "source": [
    "dataset.target"
   ]
  },
  {
   "cell_type": "code",
   "execution_count": 46,
   "metadata": {},
   "outputs": [],
   "source": [
    "from mlblocks import MLPipeline\n",
    "\n",
    "pipeline = MLPipeline(primitives, init_params=hyperparameters,\n",
    "                      input_names=input_names, output_names=output_names)"
   ]
  },
  {
   "cell_type": "code",
   "execution_count": 47,
   "metadata": {},
   "outputs": [],
   "source": [
    "X_train, X_test, y_train, y_test = dataset.get_splits(1)"
   ]
  },
  {
   "cell_type": "code",
   "execution_count": 48,
   "metadata": {},
   "outputs": [
    {
     "name": "stdout",
     "output_type": "stream",
     "text": [
      "Train on 6788 samples, validate on 1697 samples\n",
      "Epoch 1/30\n",
      "6788/6788 [==============================] - 32s 5ms/step - loss: 2.9912 - acc: 0.0557 - val_loss: 2.9852 - val_acc: 0.0619\n",
      "Epoch 2/30\n",
      "6788/6788 [==============================] - 32s 5ms/step - loss: 2.9015 - acc: 0.0971 - val_loss: 2.8154 - val_acc: 0.1155\n",
      "Epoch 3/30\n",
      "6788/6788 [==============================] - 32s 5ms/step - loss: 2.5782 - acc: 0.1582 - val_loss: 2.4418 - val_acc: 0.1768\n",
      "Epoch 4/30\n",
      "6788/6788 [==============================] - 31s 5ms/step - loss: 2.2197 - acc: 0.2519 - val_loss: 2.5558 - val_acc: 0.1897\n",
      "Epoch 5/30\n",
      "6788/6788 [==============================] - 31s 5ms/step - loss: 1.7742 - acc: 0.3945 - val_loss: 1.8669 - val_acc: 0.3707\n",
      "Epoch 6/30\n",
      "6788/6788 [==============================] - 32s 5ms/step - loss: 1.3615 - acc: 0.5256 - val_loss: 1.6787 - val_acc: 0.4337\n",
      "Epoch 7/30\n",
      "6788/6788 [==============================] - 32s 5ms/step - loss: 0.9941 - acc: 0.6609 - val_loss: 1.8508 - val_acc: 0.4526\n",
      "Epoch 8/30\n",
      "6788/6788 [==============================] - 32s 5ms/step - loss: 0.7258 - acc: 0.7593 - val_loss: 1.6624 - val_acc: 0.5180\n",
      "Epoch 9/30\n",
      "6788/6788 [==============================] - 32s 5ms/step - loss: 0.5299 - acc: 0.8242 - val_loss: 1.6683 - val_acc: 0.5280\n",
      "Epoch 10/30\n",
      "6788/6788 [==============================] - 32s 5ms/step - loss: 0.4006 - acc: 0.8758 - val_loss: 1.5799 - val_acc: 0.5910\n",
      "Epoch 11/30\n",
      "6788/6788 [==============================] - 32s 5ms/step - loss: 0.2797 - acc: 0.9176 - val_loss: 1.4719 - val_acc: 0.6211\n",
      "Epoch 12/30\n",
      "6788/6788 [==============================] - 32s 5ms/step - loss: 0.1927 - acc: 0.9439 - val_loss: 1.5598 - val_acc: 0.6123\n",
      "Epoch 13/30\n",
      "6788/6788 [==============================] - 32s 5ms/step - loss: 0.1457 - acc: 0.9593 - val_loss: 1.6804 - val_acc: 0.6217\n",
      "Epoch 14/30\n",
      "6788/6788 [==============================] - 32s 5ms/step - loss: 0.0999 - acc: 0.9720 - val_loss: 1.6009 - val_acc: 0.6370\n",
      "Epoch 15/30\n",
      "6788/6788 [==============================] - 32s 5ms/step - loss: 0.0742 - acc: 0.9792 - val_loss: 1.6859 - val_acc: 0.6341\n",
      "Epoch 16/30\n",
      "6788/6788 [==============================] - 32s 5ms/step - loss: 0.0559 - acc: 0.9848 - val_loss: 1.6422 - val_acc: 0.6547\n",
      "Epoch 17/30\n",
      "6788/6788 [==============================] - 33s 5ms/step - loss: 0.0461 - acc: 0.9882 - val_loss: 1.8417 - val_acc: 0.6341\n",
      "Epoch 18/30\n",
      "6788/6788 [==============================] - 32s 5ms/step - loss: 0.0349 - acc: 0.9920 - val_loss: 2.0119 - val_acc: 0.6034\n",
      "Epoch 19/30\n",
      "6788/6788 [==============================] - 31s 5ms/step - loss: 0.0280 - acc: 0.9931 - val_loss: 1.7065 - val_acc: 0.6594\n",
      "Epoch 20/30\n",
      "6788/6788 [==============================] - 31s 5ms/step - loss: 0.0227 - acc: 0.9948 - val_loss: 1.7720 - val_acc: 0.6553\n",
      "Epoch 21/30\n",
      "6788/6788 [==============================] - 31s 5ms/step - loss: 0.0193 - acc: 0.9953 - val_loss: 1.7564 - val_acc: 0.6641\n",
      "Epoch 22/30\n",
      "6788/6788 [==============================] - 31s 5ms/step - loss: 0.0161 - acc: 0.9954 - val_loss: 1.8446 - val_acc: 0.6570\n",
      "Epoch 23/30\n",
      "6788/6788 [==============================] - 31s 5ms/step - loss: 0.0190 - acc: 0.9957 - val_loss: 1.8502 - val_acc: 0.6553\n",
      "Epoch 24/30\n",
      "6788/6788 [==============================] - 32s 5ms/step - loss: 0.0137 - acc: 0.9968 - val_loss: 1.9285 - val_acc: 0.6565\n",
      "Epoch 25/30\n",
      "6788/6788 [==============================] - 32s 5ms/step - loss: 0.0108 - acc: 0.9973 - val_loss: 1.9763 - val_acc: 0.6482\n",
      "Epoch 26/30\n",
      "6788/6788 [==============================] - 31s 5ms/step - loss: 0.0092 - acc: 0.9978 - val_loss: 1.8801 - val_acc: 0.6618\n",
      "Epoch 27/30\n",
      "6788/6788 [==============================] - 32s 5ms/step - loss: 0.0111 - acc: 0.9975 - val_loss: 1.9307 - val_acc: 0.6612\n",
      "Epoch 28/30\n",
      "6788/6788 [==============================] - 32s 5ms/step - loss: 0.0101 - acc: 0.9972 - val_loss: 1.8906 - val_acc: 0.6618\n",
      "Epoch 29/30\n",
      "6788/6788 [==============================] - 32s 5ms/step - loss: 0.0120 - acc: 0.9968 - val_loss: 2.0065 - val_acc: 0.6417\n",
      "Epoch 30/30\n",
      "6788/6788 [==============================] - 32s 5ms/step - loss: 0.0066 - acc: 0.9978 - val_loss: 2.0197 - val_acc: 0.6482\n"
     ]
    }
   ],
   "source": [
    "pipeline.fit(X_train, y_train)"
   ]
  },
  {
   "cell_type": "code",
   "execution_count": 49,
   "metadata": {},
   "outputs": [
    {
     "name": "stdout",
     "output_type": "stream",
     "text": [
      "2829/2829 [==============================] - 1s 459us/step\n"
     ]
    }
   ],
   "source": [
    "predictions = pipeline.predict(X_test)"
   ]
  },
  {
   "cell_type": "code",
   "execution_count": 50,
   "metadata": {},
   "outputs": [
    {
     "data": {
      "text/plain": [
       "0.6415694591728526"
      ]
     },
     "execution_count": 50,
     "metadata": {},
     "output_type": "execute_result"
    }
   ],
   "source": [
    "dataset.score(y_test, predictions)"
   ]
  }
 ],
 "metadata": {
  "kernelspec": {
   "display_name": "Python 3",
   "language": "python",
   "name": "python3"
  },
  "language_info": {
   "codemirror_mode": {
    "name": "ipython",
    "version": 3
   },
   "file_extension": ".py",
   "mimetype": "text/x-python",
   "name": "python",
   "nbconvert_exporter": "python",
   "pygments_lexer": "ipython3",
   "version": "3.6.7"
  }
 },
 "nbformat": 4,
 "nbformat_minor": 4
}
